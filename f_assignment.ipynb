{
 "cells": [
  {
   "cell_type": "markdown",
   "id": "8c1c9e46-5f05-40cb-8304-e714b55ad634",
   "metadata": {},
   "source": [
    "Q1>>1.What is the difference between a function and a method in Python?"
   ]
  },
  {
   "cell_type": "markdown",
   "id": "e9fd03ba-4961-48d2-a53f-25ad9a27c9ae",
   "metadata": {},
   "source": [
    "Function>>A function is a standalone block of reusable code that performs a specific task.Functions are defined using the def keyword and are generally called by their name."
   ]
  },
  {
   "cell_type": "code",
   "execution_count": 3,
   "id": "03b91a62-34a2-4720-abdc-c975adff505f",
   "metadata": {},
   "outputs": [
    {
     "name": "stdout",
     "output_type": "stream",
     "text": [
      "hello world\n"
     ]
    }
   ],
   "source": [
    "def greet():\n",
    "    print(\"hello world\")\n",
    "\n",
    "greet()"
   ]
  },
  {
   "cell_type": "markdown",
   "id": "772b59ea-c425-495d-9018-96aeff62a573",
   "metadata": {},
   "source": [
    "Method>>method is a function that is associated with an object and define wiy=th in a class.it can only be called on an instance(or object) of the class."
   ]
  },
  {
   "cell_type": "code",
   "execution_count": 7,
   "id": "6242f4a1-4159-4330-8bbd-ae9b98b74820",
   "metadata": {},
   "outputs": [
    {
     "name": "stdout",
     "output_type": "stream",
     "text": [
      "hello world\n"
     ]
    }
   ],
   "source": [
    "class greeting:\n",
    "    def greet(self):\n",
    "        print(\"hello world\")\n",
    "\n",
    "a=greeting()\n",
    "a.greet()"
   ]
  },
  {
   "cell_type": "markdown",
   "id": "6a370633-2e72-4c50-9578-e58d231e92c2",
   "metadata": {},
   "source": [
    "Q2>>Explain the concept of function arguments and parameters in Python."
   ]
  },
  {
   "cell_type": "markdown",
   "id": "66aa183e-9ce9-4460-aad6-40d354c213f8",
   "metadata": {},
   "source": [
    "Parameters>>Parameters are the variable names defined in a function's declaration.In Python, parameters are defined in the parentheses following the def keyword in a function definition."
   ]
  },
  {
   "cell_type": "code",
   "execution_count": 8,
   "id": "e128fcf9-1b47-4bba-9b52-032c95381a3a",
   "metadata": {},
   "outputs": [],
   "source": [
    "def add(x,y):#here x and y are two parameters\n",
    "    return x+y"
   ]
  },
  {
   "cell_type": "markdown",
   "id": "b7fc09c2-b328-47bd-a12f-4f515471bcf1",
   "metadata": {},
   "source": [
    "Arguments>>Arguments are the actual values that you pass to a function when you call it.They replace the function's parameters with real data, allowing the function to perform operations on these values."
   ]
  },
  {
   "cell_type": "code",
   "execution_count": 9,
   "id": "6b0d8a6d-1072-4ee5-aaa7-cdd1cfcb97ed",
   "metadata": {},
   "outputs": [],
   "source": [
    "result=add(5,7) #here 5 and 7 are two arguments"
   ]
  },
  {
   "cell_type": "markdown",
   "id": "abfd65be-4b76-4d80-8616-42610a6d1aee",
   "metadata": {},
   "source": [
    "Q3>>What are the different ways to define and call a function in Python?"
   ]
  },
  {
   "cell_type": "markdown",
   "id": "a6456276-7606-4fb6-b7fe-35eb61cdf519",
   "metadata": {},
   "source": [
    "1.Regular Function Definition and Call>>A simple function defined with the def keyword, and called by its name."
   ]
  },
  {
   "cell_type": "code",
   "execution_count": 10,
   "id": "a5fc0a9f-1d09-40ba-a31e-1520622af943",
   "metadata": {},
   "outputs": [
    {
     "name": "stdout",
     "output_type": "stream",
     "text": [
      "good morning\n"
     ]
    }
   ],
   "source": [
    "def greet():\n",
    "    print(\"good morning\")\n",
    "\n",
    "greet()"
   ]
  },
  {
   "cell_type": "markdown",
   "id": "5ff0b986-23fc-4d75-97dc-bd0d456c2898",
   "metadata": {},
   "source": [
    "2.Function with Parameters>>Functions can be defined with parameters to accept inputs, which allows the function to operate on different values each time it’s called."
   ]
  },
  {
   "cell_type": "code",
   "execution_count": 11,
   "id": "952faa54-4a9b-47ba-ba91-658cbbba9608",
   "metadata": {},
   "outputs": [
    {
     "name": "stdout",
     "output_type": "stream",
     "text": [
      "hello krish\n"
     ]
    }
   ],
   "source": [
    "def greet(name):\n",
    "    print(f\"hello {name}\")\n",
    "greet(\"krish\")    "
   ]
  },
  {
   "cell_type": "markdown",
   "id": "e2a6b7a2-d152-4225-bcc8-d6f938a55bea",
   "metadata": {},
   "source": [
    "3.Function with Default Parameters>>You can define parameters with default values, which are used if no argument is provided when calling the function."
   ]
  },
  {
   "cell_type": "code",
   "execution_count": 12,
   "id": "66602201-4fe0-4c60-98ad-19ed791ab923",
   "metadata": {},
   "outputs": [
    {
     "name": "stdout",
     "output_type": "stream",
     "text": [
      "hello gajendra\n",
      "hello krish\n"
     ]
    }
   ],
   "source": [
    "def greet(name=\"gajendra\"):\n",
    "    print(f\"hello {name}\")\n",
    "greet()\n",
    "greet(\"krish\")\n",
    "    "
   ]
  },
  {
   "cell_type": "markdown",
   "id": "d1738a41-91b3-4f56-b7be-ee55197ee7f5",
   "metadata": {},
   "source": [
    "4.Function with Arbitrary Arguments (*args)>>If you don’t know the number of positional arguments, you can use *args to accept any number of arguments as a tuple."
   ]
  },
  {
   "cell_type": "code",
   "execution_count": 14,
   "id": "27817e79-23ca-40df-a594-53332b786257",
   "metadata": {},
   "outputs": [
    {
     "name": "stdout",
     "output_type": "stream",
     "text": [
      "hello krish\n",
      "hello gajendra\n",
      "hello ajay\n"
     ]
    }
   ],
   "source": [
    "def greet(*names):\n",
    "    for name in names:\n",
    "        print(f\"hello {name}\")\n",
    "greet(\"krish\",\"gajendra\",\"ajay\")        "
   ]
  },
  {
   "cell_type": "markdown",
   "id": "f26d65b1-3a6f-4707-80eb-0b84d10ce998",
   "metadata": {},
   "source": [
    "5. Function with Arbitrary Keyword Arguments (**kwargs)>>If you need to handle a variable number of keyword arguments, you can use **kwargs, which collects them into a dictionary."
   ]
  },
  {
   "cell_type": "code",
   "execution_count": 15,
   "id": "b19dd60d-e1b3-4d15-8427-1b0a5f553ee7",
   "metadata": {},
   "outputs": [
    {
     "name": "stdout",
     "output_type": "stream",
     "text": [
      "name: Alice\n",
      "age: 25\n",
      "city: New York\n"
     ]
    }
   ],
   "source": [
    "def display_info(**info):\n",
    "    for key, value in info.items():\n",
    "        print(f\"{key}: {value}\")\n",
    "\n",
    "display_info(name=\"krish\", age=19, city=\"mathura\")  # Passing multiple keyword arguments\n"
   ]
  },
  {
   "cell_type": "markdown",
   "id": "370a71fa-b769-43f4-9b2c-920402b04d64",
   "metadata": {},
   "source": [
    "6.Lambda Functions>>Lambda functions (anonymous functions) are small, single-expression functions defined using the lambda keyword.\n",
    "\n"
   ]
  },
  {
   "cell_type": "code",
   "execution_count": 16,
   "id": "6860b93a-d412-4d27-be6e-c13632f5d89c",
   "metadata": {},
   "outputs": [
    {
     "name": "stdout",
     "output_type": "stream",
     "text": [
      "13\n"
     ]
    }
   ],
   "source": [
    "add=lambda x,y:x+y\n",
    "print(add(5,8))\n"
   ]
  },
  {
   "cell_type": "markdown",
   "id": "b9e2ba20-59a0-4956-8bb3-8a12257780a9",
   "metadata": {},
   "source": [
    "7.Nested Functions>>You can define functions within other functions.These nested functions can only be accessed within their containing function."
   ]
  },
  {
   "cell_type": "code",
   "execution_count": 17,
   "id": "676d75ae-d7e8-4258-ae95-9f53dce96113",
   "metadata": {},
   "outputs": [
    {
     "name": "stdout",
     "output_type": "stream",
     "text": [
      "Hello from the inner function!\n"
     ]
    }
   ],
   "source": [
    "def outer_function():\n",
    "    def inner_function():\n",
    "        print(\"Hello from the inner function!\")\n",
    "    inner_function()\n",
    "\n",
    "outer_function() "
   ]
  },
  {
   "cell_type": "markdown",
   "id": "da5d888a-ef95-4716-89f4-de83c8a98595",
   "metadata": {},
   "source": [
    "8.Calling Functions as Arguments>>You can pass functions as arguments to other functions."
   ]
  },
  {
   "cell_type": "code",
   "execution_count": 18,
   "id": "7f66601a-3a41-4121-a2fc-98100ea7c0ef",
   "metadata": {},
   "outputs": [
    {
     "name": "stdout",
     "output_type": "stream",
     "text": [
      "Hello!\n"
     ]
    }
   ],
   "source": [
    "def greet():\n",
    "    return \"Hello!\"\n",
    "\n",
    "def call_function(func):\n",
    "    print(func())\n",
    "\n",
    "call_function(greet) "
   ]
  },
  {
   "cell_type": "markdown",
   "id": "9dc42b1f-6078-47eb-92e4-7a27819853c4",
   "metadata": {},
   "source": [
    "10.Recursive Functions>>A recursive function is a function that calls itself, typically used to solve problems that can be broken down into similar sub-problems."
   ]
  },
  {
   "cell_type": "code",
   "execution_count": 19,
   "id": "755ea261-90a2-47b2-8831-42c307b52240",
   "metadata": {},
   "outputs": [
    {
     "name": "stdout",
     "output_type": "stream",
     "text": [
      "120\n"
     ]
    }
   ],
   "source": [
    "def factorial(n):\n",
    "    if n == 1:\n",
    "        return 1\n",
    "    else:\n",
    "        return n * factorial(n - 1)\n",
    "\n",
    "print(factorial(5))  # 120"
   ]
  },
  {
   "cell_type": "markdown",
   "id": "9f88cf00-f533-4587-a3b2-075dbb4f4fc8",
   "metadata": {},
   "source": [
    "Q4>>What is the purpose of the `return` statement in a Python function?"
   ]
  },
  {
   "cell_type": "markdown",
   "id": "aa9e9903-9ed8-4072-9b4a-94a994d682c5",
   "metadata": {},
   "source": [
    "\n",
    "The return statement in a Python function ends the function’s execution and optionally sends a value back to the caller."
   ]
  },
  {
   "cell_type": "code",
   "execution_count": 20,
   "id": "95667328-c943-4548-a8f7-da398029d6a9",
   "metadata": {},
   "outputs": [
    {
     "data": {
      "text/plain": [
       "7"
      ]
     },
     "execution_count": 20,
     "metadata": {},
     "output_type": "execute_result"
    }
   ],
   "source": [
    "def add(x,y):\n",
    "    return x+y\n",
    "add(3,4)    "
   ]
  },
  {
   "cell_type": "markdown",
   "id": "48bbf3fd-fead-4dca-9904-dcef5f19fca2",
   "metadata": {},
   "source": [
    "Q5>>What are iterators in Python and how do they differ from iterables?"
   ]
  },
  {
   "cell_type": "markdown",
   "id": "09e5c4da-7373-4cd9-bac5-dda17f653256",
   "metadata": {},
   "source": [
    "Iterators>>\n",
    "An iterator is an object that represents a stream of data; it returns data one element at a time when called."
   ]
  },
  {
   "cell_type": "code",
   "execution_count": 21,
   "id": "15c08a23-18df-413e-abac-50e8bc5e4a87",
   "metadata": {},
   "outputs": [
    {
     "name": "stdout",
     "output_type": "stream",
     "text": [
      "1\n",
      "2\n",
      "3\n"
     ]
    }
   ],
   "source": [
    "my_list = [1, 2, 3]\n",
    "iterator = iter(my_list)  # Obtain an iterator from an iterable\n",
    "print(next(iterator))      # Outputs: 1\n",
    "print(next(iterator))      # Outputs: 2\n",
    "print(next(iterator))      # Outputs: 3"
   ]
  },
  {
   "cell_type": "markdown",
   "id": "a8038466-a11d-47e8-85d3-a0639a5f395b",
   "metadata": {},
   "source": [
    "Iterables>>\n",
    "An iterable is any object that can return its elements one at a time, allowing it to be looped over in a for loop.\n",
    "\n"
   ]
  },
  {
   "cell_type": "code",
   "execution_count": 23,
   "id": "55834fba-66c9-4e43-9ebc-7ade58503111",
   "metadata": {},
   "outputs": [
    {
     "name": "stdout",
     "output_type": "stream",
     "text": [
      "1\n",
      "2\n",
      "3\n"
     ]
    }
   ],
   "source": [
    "my_list = [1, 2, 3]      # my_list is an iterable\n",
    "for item in my_list:      # Can be iterated over\n",
    "    print(item)"
   ]
  },
  {
   "cell_type": "markdown",
   "id": "ed9d1649-fd9b-4123-8caa-d72259c21071",
   "metadata": {},
   "source": [
    "Q6>>Explain the concept of generators in Python and how they are defined."
   ]
  },
  {
   "cell_type": "markdown",
   "id": "7bf11523-bf04-4566-b48d-1cc1463aca26",
   "metadata": {},
   "source": [
    "Generators in Python are a special type of iterable that allow you to generate values on the fly instead of storing them all in memory at once. They are useful for handling large data sets or when you want to create an infinite sequence of values.\n"
   ]
  },
  {
   "cell_type": "markdown",
   "id": "9ca11da5-86b7-4f82-8c4b-4c72a9856604",
   "metadata": {},
   "source": [
    "1.Using Functions with yield:"
   ]
  },
  {
   "cell_type": "code",
   "execution_count": 3,
   "id": "212bf8be-1b41-44b8-95bb-d5593f4d1a5d",
   "metadata": {},
   "outputs": [
    {
     "name": "stdout",
     "output_type": "stream",
     "text": [
      "1\n",
      "2\n",
      "3\n",
      "4\n",
      "5\n",
      "6\n",
      "7\n",
      "8\n",
      "9\n",
      "10\n"
     ]
    }
   ],
   "source": [
    "def count_up_to(max):\n",
    "    count = 1\n",
    "    while count <= max:\n",
    "        yield count \n",
    "        count += 1\n",
    "for num in count_up_to(10):\n",
    "    print(num)"
   ]
  },
  {
   "cell_type": "markdown",
   "id": "aae1146d-5332-4111-8b3f-4005ec256f78",
   "metadata": {},
   "source": [
    "2.Using Generator Expressions:"
   ]
  },
  {
   "cell_type": "code",
   "execution_count": 4,
   "id": "d0a17f0d-3923-4b0c-998e-440a52c493d8",
   "metadata": {},
   "outputs": [
    {
     "name": "stdout",
     "output_type": "stream",
     "text": [
      "0\n",
      "1\n",
      "4\n",
      "9\n",
      "16\n"
     ]
    }
   ],
   "source": [
    "squares = (x**2 for x in range(5))\n",
    "for square in squares:\n",
    "    print(square)"
   ]
  },
  {
   "cell_type": "markdown",
   "id": "8c6e83c4-f7ec-44de-a972-642ddd989310",
   "metadata": {},
   "source": [
    "Q7>>What are the advantages of using generators over regular functions?"
   ]
  },
  {
   "cell_type": "markdown",
   "id": "4de89092-5809-482c-99aa-34eb262aaf9f",
   "metadata": {},
   "source": [
    "1. Memory Efficiency>>Generators yield items one at a time instead of storing them all in memory at once."
   ]
  },
  {
   "cell_type": "markdown",
   "id": "0588b99b-ddee-4ac3-aaa8-2911e225f01b",
   "metadata": {},
   "source": [
    "2.Lazy Evaluation>>\n",
    "Generators produce values only when requested, delaying computation until needed."
   ]
  },
  {
   "cell_type": "markdown",
   "id": "0f27d3d0-f8fd-41f1-be3a-8fe3eda876e8",
   "metadata": {},
   "source": [
    "3.State Persistence>>Generators automatically maintain their state between successive calls. You don’t need to manage state manually, as you would in a regular function."
   ]
  },
  {
   "cell_type": "markdown",
   "id": "c2afaf3e-80a2-47d5-b27f-b5bc82bba86e",
   "metadata": {},
   "source": [
    "4.Support for Infinite Sequences>>\n",
    "Generators are ideal for defining infinite sequences, as they don’t attempt to precompute or store the entire sequence in memory."
   ]
  },
  {
   "cell_type": "markdown",
   "id": "26de72ba-5e92-49d7-8589-483b39cdd6b6",
   "metadata": {},
   "source": [
    "Q8>>What is a lambda function in Python and when is it typically used?"
   ]
  },
  {
   "cell_type": "markdown",
   "id": "f92a0158-8f8c-4f93-a2e9-10add185692e",
   "metadata": {},
   "source": [
    "A lambda function in Python is a small, anonymous function defined using the lambda keyword. It is often referred to as a \"lambda expression\" because it is designed to define simple, one-line functions without giving them a formal name."
   ]
  },
  {
   "cell_type": "code",
   "execution_count": 9,
   "id": "2a7e618a-40b4-4b1b-95a0-fc36926ba8e3",
   "metadata": {},
   "outputs": [
    {
     "data": {
      "text/plain": [
       "625"
      ]
     },
     "execution_count": 9,
     "metadata": {},
     "output_type": "execute_result"
    }
   ],
   "source": [
    "square=lambda x:x**2\n",
    "square(25)"
   ]
  },
  {
   "cell_type": "markdown",
   "id": "2fd23152-6de1-4981-a474-f0795cac0c8f",
   "metadata": {},
   "source": [
    "Typical Use Cases>>\n",
    "Lambda functions are commonly used in scenarios where a simple function is needed temporarily, especially in combination with higher-order functions."
   ]
  },
  {
   "cell_type": "markdown",
   "id": "287905d2-fbec-4de1-823f-8e82e72e2e1a",
   "metadata": {},
   "source": [
    "1. As Arguments to Higher-Order Functions\n",
    "2.In Sorting\n",
    "3. In List Comprehensions or Inline Calculations\n",
    "4. Default or Quick Utility Functions"
   ]
  },
  {
   "cell_type": "code",
   "execution_count": 10,
   "id": "4280f4c3-4612-4e31-8882-e373a252b5f8",
   "metadata": {},
   "outputs": [
    {
     "name": "stdout",
     "output_type": "stream",
     "text": [
      "15\n",
      "5\n"
     ]
    }
   ],
   "source": [
    "operations = {\n",
    "    \"add\": lambda x, y: x + y,\n",
    "    \"subtract\": lambda x, y: x - y\n",
    "}\n",
    "print(operations[\"add\"](10, 5))  \n",
    "print(operations[\"subtract\"](10, 5)) "
   ]
  },
  {
   "cell_type": "markdown",
   "id": "2335eebd-2119-42a3-83ac-f135bb5f7053",
   "metadata": {},
   "source": [
    "Q9>>9. Explain the purpose and usage of the `map()` function in Python."
   ]
  },
  {
   "cell_type": "markdown",
   "id": "6e8ce49d-d4dd-464a-ace1-5673dc38bab5",
   "metadata": {},
   "source": [
    "The map() function in Python is a built-in function used to apply a given function to all items in an iterable (e.g., a list, tuple, or string) and return a new iterable (of type map) containing the results. It's commonly used for element-wise transformations."
   ]
  },
  {
   "cell_type": "code",
   "execution_count": 11,
   "id": "159a1a63-8101-452e-89f5-e9f1f3e35db0",
   "metadata": {},
   "outputs": [
    {
     "name": "stdout",
     "output_type": "stream",
     "text": [
      "[1, 4, 9, 16, 25]\n"
     ]
    }
   ],
   "source": [
    "#1. Applying a Function to a Single Iterable\n",
    "numbers = [1, 2, 3, 4, 5]\n",
    "squared = map(lambda x: x**2, numbers)\n",
    "print(list(squared))"
   ]
  },
  {
   "cell_type": "code",
   "execution_count": 12,
   "id": "62ae610e-2e1e-4555-85dd-6532e2312b2d",
   "metadata": {},
   "outputs": [
    {
     "name": "stdout",
     "output_type": "stream",
     "text": [
      "['HELLO', 'WORLD']\n"
     ]
    }
   ],
   "source": [
    "#2Using a Predefined Function\n",
    "def to_uppercase(word):\n",
    "    return word.upper()\n",
    "\n",
    "words = [\"hello\", \"world\"]\n",
    "uppercase_words = map(to_uppercase, words)\n",
    "print(list(uppercase_words)) "
   ]
  },
  {
   "cell_type": "code",
   "execution_count": 13,
   "id": "432b697c-a214-4448-8710-d5bf9872c019",
   "metadata": {},
   "outputs": [
    {
     "name": "stdout",
     "output_type": "stream",
     "text": [
      "[5, 7, 9]\n"
     ]
    }
   ],
   "source": [
    "#3. Applying a Function to Multiple Iterables\n",
    "numbers1 = [1, 2, 3]\n",
    "numbers2 = [4, 5, 6]\n",
    "sum_pairs = map(lambda x, y: x + y, numbers1, numbers2)\n",
    "print(list(sum_pairs))"
   ]
  },
  {
   "cell_type": "markdown",
   "id": "e6613280-419c-4f48-bbe2-2a5a729118f8",
   "metadata": {},
   "source": [
    "Q10>>What is the difference between `map()`, `reduce()`, and `filter()` functions in Python?"
   ]
  },
  {
   "cell_type": "markdown",
   "id": "f5953589-d755-416a-97b0-e5f43c39efcf",
   "metadata": {},
   "source": [
    "1. map()>>\n",
    "The map() function is used to apply a transformation function to each element in one or more iterables, returning an iterator of the transformed elements."
   ]
  },
  {
   "cell_type": "code",
   "execution_count": 14,
   "id": "36ad4158-c212-489a-ac52-ad9bc4f088e0",
   "metadata": {},
   "outputs": [
    {
     "name": "stdout",
     "output_type": "stream",
     "text": [
      "[1, 4, 9, 16]\n"
     ]
    }
   ],
   "source": [
    "numbers = [1, 2, 3, 4]\n",
    "squares = map(lambda x: x**2, numbers)\n",
    "print(list(squares))"
   ]
  },
  {
   "cell_type": "markdown",
   "id": "e05e211a-6dc8-43fc-bdc0-bc85e7247197",
   "metadata": {},
   "source": [
    "2. filter()>>\n",
    "The filter() function applies a condition (a function that returns True or False) to each element in an iterable, returning an iterator of elements that satisfy the condition."
   ]
  },
  {
   "cell_type": "code",
   "execution_count": 15,
   "id": "8e0e4e44-b518-4512-a4dc-104a359affa2",
   "metadata": {},
   "outputs": [
    {
     "name": "stdout",
     "output_type": "stream",
     "text": [
      "[2, 4, 6]\n"
     ]
    }
   ],
   "source": [
    "numbers = [1, 2, 3, 4, 5, 6]\n",
    "evens = filter(lambda x: x % 2 == 0, numbers)\n",
    "print(list(evens))"
   ]
  },
  {
   "cell_type": "markdown",
   "id": "c058910c-b800-40f0-b9c2-725f0c309beb",
   "metadata": {},
   "source": [
    "3. reduce()>>\n",
    "The reduce() function (from the functools module) applies a binary function (a function taking two arguments) cumulatively to the items of an iterable, reducing it to a single value."
   ]
  },
  {
   "cell_type": "code",
   "execution_count": 17,
   "id": "fe1c5e9e-ca87-4207-b7d9-f72ae2503a73",
   "metadata": {},
   "outputs": [
    {
     "name": "stdout",
     "output_type": "stream",
     "text": [
      "24\n"
     ]
    }
   ],
   "source": [
    "from functools import reduce\n",
    "numbers = [1, 2, 3, 4]\n",
    "product = reduce(lambda x, y: x * y, numbers)\n",
    "print(product)"
   ]
  },
  {
   "cell_type": "markdown",
   "id": "2b8b7ae6-c85a-4c4a-8805-ebd16676d622",
   "metadata": {},
   "source": [
    "Q11>>Using pen & Paper write the internal mechanism for sum operation using  reduce function on this given\n",
    "list:[47,11,42,13]; "
   ]
  },
  {
   "cell_type": "markdown",
   "id": "611e0f9a-fa5b-4b8b-b95c-2a27fcaceffa",
   "metadata": {},
   "source": [
    "I attached a paper with gdoc for answering this question"
   ]
  },
  {
   "cell_type": "markdown",
   "id": "0e5e01a0-2048-4cfe-ac3d-2b3ab660c5e3",
   "metadata": {},
   "source": [
    "                                    <<PRACTICAL QUESTIONS>>"
   ]
  },
  {
   "cell_type": "markdown",
   "id": "5822ac96-206d-46d1-a0e0-35299b1656b6",
   "metadata": {},
   "source": [
    "Q1>>Write a Python function that takes a list of numbers as input and returns the sum of all even numbers in\n",
    "the list."
   ]
  },
  {
   "cell_type": "code",
   "execution_count": 18,
   "id": "45d4aa54-718f-4858-a09c-8a3e36ed6a58",
   "metadata": {},
   "outputs": [
    {
     "name": "stdout",
     "output_type": "stream",
     "text": [
      "The sum of even numbers is: 12\n"
     ]
    }
   ],
   "source": [
    "def sum_of_even_numbers(numbers):\n",
    "\n",
    "    return sum(num for num in numbers if num % 2 == 0)\n",
    "\n",
    "\n",
    "numbers = [1, 2, 3, 4, 5, 6]\n",
    "result = sum_of_even_numbers(numbers)\n",
    "print(f\"The sum of even numbers is: {result}\") "
   ]
  },
  {
   "cell_type": "markdown",
   "id": "fe0d49b4-5841-47f2-b165-1c975003d3d4",
   "metadata": {},
   "source": [
    "Q2>>Create a Python function that accepts a string and returns the reverse of that string."
   ]
  },
  {
   "cell_type": "code",
   "execution_count": 19,
   "id": "7e61249e-fb2f-463a-a7f8-930eedca84a4",
   "metadata": {},
   "outputs": [
    {
     "name": "stdout",
     "output_type": "stream",
     "text": [
      "The reversed string is: !dlroW ,olleH\n"
     ]
    }
   ],
   "source": [
    "def reverse_string(s):\n",
    "\n",
    "    return s[::-1]\n",
    "\n",
    "text = \"Hello, World!\"\n",
    "reversed_text = reverse_string(text)\n",
    "print(f\"The reversed string is: {reversed_text}\")"
   ]
  },
  {
   "cell_type": "markdown",
   "id": "01a32dd7-80ed-4010-a982-1ba6dc905c71",
   "metadata": {},
   "source": [
    "Q3>>Implement a Python function that takes a list of integers and returns a new list containing the squares of\n",
    "each number."
   ]
  },
  {
   "cell_type": "code",
   "execution_count": 20,
   "id": "53a653c2-6568-4cc8-b3e6-149f6d67f12c",
   "metadata": {},
   "outputs": [
    {
     "name": "stdout",
     "output_type": "stream",
     "text": [
      "The squared numbers are: [1, 4, 9, 16, 25]\n"
     ]
    }
   ],
   "source": [
    "def square_numbers(numbers):\n",
    "    return [num**2 for num in numbers]\n",
    "\n",
    "\n",
    "numbers = [1, 2, 3, 4, 5]\n",
    "squared_numbers = square_numbers(numbers)\n",
    "print(f\"The squared numbers are: {squared_numbers}\")"
   ]
  },
  {
   "cell_type": "markdown",
   "id": "d6a8bc11-17da-459f-901c-f332436d3eff",
   "metadata": {},
   "source": [
    "Q4>>Write a Python function that checks if a given number is prime or not from 1 to 200."
   ]
  },
  {
   "cell_type": "code",
   "execution_count": 22,
   "id": "5bab8938-af6f-4b34-b94a-b715117342fd",
   "metadata": {},
   "outputs": [
    {
     "name": "stdout",
     "output_type": "stream",
     "text": [
      "Prime numbers from 1 to 200 are: [2, 3, 5, 7, 11, 13, 17, 19, 23, 29, 31, 37, 41, 43, 47, 53, 59, 61, 67, 71, 73, 79, 83, 89, 97, 101, 103, 107, 109, 113, 127, 131, 137, 139, 149, 151, 157, 163, 167, 173, 179, 181, 191, 193, 197, 199]\n"
     ]
    }
   ],
   "source": [
    "def is_prime(n):\n",
    "    if n <= 1:\n",
    "        return False\n",
    "    for i in range(2, int(n**0.5) + 1):\n",
    "        if n % i == 0:\n",
    "            return False\n",
    "    return True\n",
    "    \n",
    "primes = [num for num in range(1, 201) if is_prime(num)]\n",
    "print(f\"Prime numbers from 1 to 200 are: {primes}\")"
   ]
  },
  {
   "cell_type": "markdown",
   "id": "b64ce545-dbbb-47bb-9dc7-09d961d1e9e7",
   "metadata": {},
   "source": [
    "Q5>>Create an iterator class in Python that generates the Fibonacci sequence up to a specified number of\n",
    "terms."
   ]
  },
  {
   "cell_type": "code",
   "execution_count": 23,
   "id": "02ff5ee0-306d-41f6-a201-be1e6d43b067",
   "metadata": {},
   "outputs": [
    {
     "name": "stdout",
     "output_type": "stream",
     "text": [
      "0\n",
      "1\n",
      "1\n",
      "2\n",
      "3\n",
      "5\n",
      "8\n",
      "13\n",
      "21\n",
      "34\n"
     ]
    }
   ],
   "source": [
    "class FibonacciIterator:\n",
    "    def __init__(self, terms):\n",
    "        self.terms = terms\n",
    "        self.prev, self.curr = 0, 1\n",
    "        self.count = 0\n",
    "\n",
    "    def __iter__(self):\n",
    "        return self\n",
    "\n",
    "    def __next__(self):\n",
    "        if self.count >= self.terms:\n",
    "            raise StopIteration\n",
    "        result = self.prev\n",
    "        self.prev, self.curr = self.curr, self.prev + self.curr\n",
    "        self.count += 1\n",
    "        return result\n",
    "\n",
    "# Example usage\n",
    "fib = FibonacciIterator(10)\n",
    "for num in fib:\n",
    "    print(num)\n"
   ]
  },
  {
   "cell_type": "markdown",
   "id": "b09ead90-c1c8-4683-9722-17cf4c21ab67",
   "metadata": {},
   "source": [
    "Q6>>Write a generator function in Python that yields the powers of 2 up to a given exponent."
   ]
  },
  {
   "cell_type": "code",
   "execution_count": 24,
   "id": "38ef639f-62b9-4724-bb4e-eb525a78c6c0",
   "metadata": {},
   "outputs": [
    {
     "name": "stdout",
     "output_type": "stream",
     "text": [
      "1\n",
      "2\n",
      "4\n",
      "8\n",
      "16\n",
      "32\n"
     ]
    }
   ],
   "source": [
    "def powers_of_2(exponent):\n",
    "    for i in range(exponent + 1):\n",
    "        yield 2 ** i\n",
    "\n",
    "# Example usage\n",
    "for power in powers_of_2(5):\n",
    "    print(power)"
   ]
  },
  {
   "cell_type": "markdown",
   "id": "e2486d27-2ca8-4c59-828b-00a280c95f51",
   "metadata": {},
   "source": [
    "Q7>>Implement a generator function that reads a file line by line and yields each line as a string."
   ]
  },
  {
   "cell_type": "code",
   "execution_count": null,
   "id": "15881289-3fa2-488f-87a3-90a098560790",
   "metadata": {},
   "outputs": [],
   "source": [
    "def read_file_line_by_line(filename):\n",
    "\n",
    "    with open(filename, 'r') as file:\n",
    "        for line in file:\n",
    "            yield line.strip() \n",
    "\n",
    "\n",
    "filename = 'example.txt'  \n",
    "for line in read_file_line_by_line(filename):\n",
    "    print(line)"
   ]
  },
  {
   "cell_type": "markdown",
   "id": "fb5d3d57-2859-4986-b019-b339e7744258",
   "metadata": {},
   "source": [
    "Q8>>Use a lambda function in Python to sort a list of tuples based on the second element of each tuple."
   ]
  },
  {
   "cell_type": "code",
   "execution_count": 27,
   "id": "a6359d8a-8b5c-4aee-ae89-5639c91b2765",
   "metadata": {},
   "outputs": [
    {
     "name": "stdout",
     "output_type": "stream",
     "text": [
      "[(4, 1), (2, 2), (1, 3), (5, 4)]\n"
     ]
    }
   ],
   "source": [
    "\n",
    "tuples = [(1, 3), (4, 1), (2, 2), (5, 4)]\n",
    "\n",
    "sorted_tuples = sorted(tuples, key=lambda x: x[1])\n",
    "\n",
    "print(sorted_tuples)"
   ]
  },
  {
   "cell_type": "markdown",
   "id": "b9906605-28a2-41ea-81bf-05d99196c30a",
   "metadata": {},
   "source": [
    "Q9>>Write a Python program that uses `map()` to convert a list of temperatures from Celsius to Fahrenheit."
   ]
  },
  {
   "cell_type": "code",
   "execution_count": 28,
   "id": "79996043-89f6-454c-8565-897456d54aea",
   "metadata": {},
   "outputs": [
    {
     "name": "stdout",
     "output_type": "stream",
     "text": [
      "[32.0, 50.0, 68.0, 86.0, 104.0, 122.0]\n"
     ]
    }
   ],
   "source": [
    "celsius_temperatures = [0, 10, 20, 30, 40, 50]\n",
    "\n",
    "def celsius_to_fahrenheit(celsius):\n",
    "    return (celsius * 9/5) + 32\n",
    "\n",
    "fahrenheit_temperatures = list(map(celsius_to_fahrenheit, celsius_temperatures))\n",
    "\n",
    "print(fahrenheit_temperatures)\n"
   ]
  },
  {
   "cell_type": "markdown",
   "id": "99c51e56-e8aa-48d0-ab28-5d14631be0d7",
   "metadata": {},
   "source": [
    "10.Create a Python program that uses `filter()` to remove all the vowels from a given string."
   ]
  },
  {
   "cell_type": "code",
   "execution_count": 29,
   "id": "b94bca5d-afa4-424a-9a98-237cb29ed1b4",
   "metadata": {},
   "outputs": [
    {
     "name": "stdout",
     "output_type": "stream",
     "text": [
      "Hll, Wrld!\n"
     ]
    }
   ],
   "source": [
    "def is_not_vowel(char):\n",
    "    vowels = \"aeiouAEIOU\"\n",
    "    return char not in vowels\n",
    "\n",
    "input_string = \"Hello, World!\"\n",
    "filtered_string = ''.join(filter(is_not_vowel, input_string))\n",
    "\n",
    "\n",
    "print(filtered_string)\n"
   ]
  },
  {
   "cell_type": "markdown",
   "id": "8e717bd6-ae4d-4046-b25d-1548c4f10a04",
   "metadata": {},
   "source": [
    "Q11>>11) Imagine an accounting routine used in a book shop. It works on a list with sublists, which look like this:\n",
    "\n",
    "\n",
    "\n",
    "\n",
    "\n",
    "\n",
    "\n",
    "Write a Python program, which returns a list with 2-tuples. Each tuple consists of the order number and the\n",
    "product of the price per item and the quantity. The product should be increased by 10,- € if the value of the\n",
    "order is smaller than 100,00 €.\n",
    "\n",
    "Write a Python program using lambda and map."
   ]
  },
  {
   "cell_type": "code",
   "execution_count": 1,
   "id": "dee5e714-a579-4cdd-a7ef-f66523aef42f",
   "metadata": {},
   "outputs": [
    {
     "name": "stdout",
     "output_type": "stream",
     "text": [
      "[(34587, 163.8), (98762, 284.0), (77226, 108.85000000000001), (88112, 84.97)]\n"
     ]
    }
   ],
   "source": [
    "orders = [\n",
    "    [34587, \"Learning Python, Mark Lutz\", 4, 40.95],\n",
    "    [98762, \"Programming Python, Mark Lutz\", 5, 56.80],\n",
    "    [77226, \"Head First Python, Paul Barry\", 3, 32.95],\n",
    "    [88112, \"Einführung in Python3, Bernd Klein\", 3, 24.99]\n",
    "]\n",
    "\n",
    "# Using lambda and map to calculate the result\n",
    "result = list(map(lambda order: (\n",
    "    order[0], \n",
    "    order[2] * order[3] + (10 if order[2] * order[3] < 100 else 0)\n",
    "), orders))\n",
    "\n",
    "\n",
    "print(result)"
   ]
  },
  {
   "cell_type": "code",
   "execution_count": null,
   "id": "10e1b178-5066-47ec-979f-015577189554",
   "metadata": {},
   "outputs": [],
   "source": []
  }
 ],
 "metadata": {
  "kernelspec": {
   "display_name": "Python 3 (ipykernel)",
   "language": "python",
   "name": "python3"
  },
  "language_info": {
   "codemirror_mode": {
    "name": "ipython",
    "version": 3
   },
   "file_extension": ".py",
   "mimetype": "text/x-python",
   "name": "python",
   "nbconvert_exporter": "python",
   "pygments_lexer": "ipython3",
   "version": "3.13.0"
  }
 },
 "nbformat": 4,
 "nbformat_minor": 5
}
